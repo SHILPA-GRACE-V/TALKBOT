{
 "cells": [
  {
   "cell_type": "markdown",
   "metadata": {},
   "source": [
    "# TalkBot"
   ]
  },
  {
   "cell_type": "markdown",
   "metadata": {},
   "source": [
    "### Packages necessary"
   ]
  },
  {
   "cell_type": "code",
   "execution_count": null,
   "metadata": {},
   "outputs": [],
   "source": [
    "!python -m pip install --upgrade pip\n",
    "\n",
    "!pip install speechrecognition\n",
    "!pip install pyAudio\n",
    "!pip install pyttsx3\n",
    "\n",
    "!pip install chatterbot==0.8.6"
   ]
  },
  {
   "cell_type": "markdown",
   "metadata": {},
   "source": [
    "### Import necessary ChatBot libraries"
   ]
  },
  {
   "cell_type": "code",
   "execution_count": null,
   "metadata": {},
   "outputs": [],
   "source": [
    "from chatterbot import ChatBot\n",
    "from chatterbot.trainers import ChatterBotCorpusTrainer"
   ]
  },
  {
   "cell_type": "markdown",
   "metadata": {},
   "source": [
    "### Import libraries necessary to make ChatBot into a TalkBot"
   ]
  },
  {
   "cell_type": "code",
   "execution_count": null,
   "metadata": {},
   "outputs": [],
   "source": [
    "import speech_recognition as sr\n",
    "import pyttsx3"
   ]
  },
  {
   "cell_type": "markdown",
   "metadata": {},
   "source": [
    "### Create objects and define them"
   ]
  },
  {
   "cell_type": "code",
   "execution_count": null,
   "metadata": {},
   "outputs": [],
   "source": [
    "bot = ChatBot('CHOTTU')\n",
    "bot.set_trainer(ChatterBotCorpusTrainer)\n",
    "\n",
    "talk = pyttsx3.init()"
   ]
  },
  {
   "cell_type": "markdown",
   "metadata": {},
   "source": [
    "### Train the Bot"
   ]
  },
  {
   "cell_type": "code",
   "execution_count": null,
   "metadata": {},
   "outputs": [],
   "source": [
    "bot.train('chatterbot.corpus.english')"
   ]
  },
  {
   "cell_type": "markdown",
   "metadata": {},
   "source": [
    "### Function to make bot talkative"
   ]
  },
  {
   "cell_type": "code",
   "execution_count": null,
   "metadata": {},
   "outputs": [],
   "source": [
    "def interact(reply):\n",
    "    print('{}: {}'.format(bot.name, reply))\n",
    "    talk.say(reply)\n",
    "    talk.runAndWait()"
   ]
  },
  {
   "cell_type": "markdown",
   "metadata": {},
   "source": [
    "### Making the interactive"
   ]
  },
  {
   "cell_type": "code",
   "execution_count": null,
   "metadata": {},
   "outputs": [],
   "source": [
    "while True:\n",
    "    speech = sr.Recognizer() #create object for Recognizer class\n",
    "    mic    = sr.Microphone() #create object for Microphone\n",
    "    \n",
    "    with mic as source:                               #similar to source=mic\n",
    "        print('\\n{} listening...'.format(bot.name))\n",
    "        audio = speech.listen(source)                 #Listen to audio through mic\n",
    "        \n",
    "    try:\n",
    "        message = speech.recognize_google(audio)      #Recognize audio using Google SR\n",
    "        print('You: {}'.format(message))              #User's audio in text form\n",
    "        \n",
    "        if(message=='bye see you later'):             #condition to terminate bot\n",
    "            reply = 'I enjoyed talking to you, bye'\n",
    "            interact(reply)                           #Call interact() function to talk\n",
    "            break\n",
    "        \n",
    "        else:\n",
    "            reply = bot.get_response(message)         #getting response for user's message\n",
    "    \n",
    "    except:\n",
    "        reply = 'Pardon, I am listening again'        #if audio not recognized\n",
    "        \n",
    "    interact(reply)                                   #Call interact() function to talk"
   ]
  }
 ],
 "metadata": {
  "kernelspec": {
   "display_name": "Python 3",
   "language": "python",
   "name": "python3"
  },
  "language_info": {
   "codemirror_mode": {
    "name": "ipython",
    "version": 3
   },
   "file_extension": ".py",
   "mimetype": "text/x-python",
   "name": "python",
   "nbconvert_exporter": "python",
   "pygments_lexer": "ipython3",
   "version": "3.7.4"
  }
 },
 "nbformat": 4,
 "nbformat_minor": 2
}
